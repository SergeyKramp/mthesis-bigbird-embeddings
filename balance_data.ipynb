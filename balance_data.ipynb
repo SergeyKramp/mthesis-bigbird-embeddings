{
 "cells": [
  {
   "cell_type": "code",
   "execution_count": 1,
   "id": "86111af5",
   "metadata": {},
   "outputs": [],
   "source": [
    "from data.databalancer import DataBalancer"
   ]
  },
  {
   "cell_type": "code",
   "execution_count": 2,
   "id": "4ebfe191",
   "metadata": {},
   "outputs": [],
   "source": [
    "data_balancer = DataBalancer(random_seed=42)"
   ]
  },
  {
   "cell_type": "code",
   "execution_count": 3,
   "id": "849145a1",
   "metadata": {},
   "outputs": [
    {
     "name": "stdout",
     "output_type": "stream",
     "text": [
      "Statistics: \n",
      "Found 29 languages in ./data/text_chunks/original/europe_data\n",
      " \n",
      "\n",
      "        Total number of authors is: 5686\n",
      "        Max number of authors per language is: 809 for English\n",
      "        Min number of authors per language is: 104 for Lithuanian\n",
      "        Average number of authors per language is: 247.2173913043478\n",
      "        Median number of authors per language is: 172\n",
      "\n",
      "        Total number of chunks is: 49685\n",
      "        Max number of chunks per language: 6454 for English\n",
      "        Min number of chunks per language: 758 for Serbian\n",
      "        Average number of chunks per language is: 2160.217391304348\n",
      "        Median number of chunks per language is: 1520\n",
      "\n",
      "        Max number of chunks per author is: 744\n",
      "        Min number of chunks per author is: 1\n",
      "        Average number of chunks per author is 12.61273302849103\n",
      "        Median number of chunks per author is 3\n",
      "              \n"
     ]
    }
   ],
   "source": [
    "data_balancer.get_statistics('./data/text_chunks/original/europe_data')"
   ]
  },
  {
   "cell_type": "code",
   "execution_count": 4,
   "id": "a1fa5265",
   "metadata": {},
   "outputs": [
    {
     "name": "stdout",
     "output_type": "stream",
     "text": [
      "Statistics: \n",
      "Found 30 languages in ./data/text_chunks/original/non_europe_data\n",
      " \n",
      "\n",
      "        Total number of authors is: 23263\n",
      "        Max number of authors per language is: 5187 for English\n",
      "        Min number of authors per language is: 273 for Slovenian\n",
      "        Average number of authors per language is: 1011.4347826086956\n",
      "        Median number of authors per language is: 710\n",
      "\n",
      "        Total number of chunks is: 1247312\n",
      "        Max number of chunks per language: 543653 for English\n",
      "        Min number of chunks per language: 7302 for Slovenian\n",
      "        Average number of chunks per language is: 54230.95652173913\n",
      "        Median number of chunks per language is: 24691\n",
      "\n",
      "        Max number of chunks per author is: 4423\n",
      "        Min number of chunks per author is: 1\n",
      "        Average number of chunks per author is 81.57559214202811\n",
      "        Median number of chunks per author is 17\n",
      "              \n"
     ]
    }
   ],
   "source": [
    "data_balancer.get_statistics('./data/text_chunks/original/non_europe_data')"
   ]
  },
  {
   "cell_type": "code",
   "execution_count": 4,
   "id": "66b30218",
   "metadata": {},
   "outputs": [
    {
     "name": "stderr",
     "output_type": "stream",
     "text": [
      "03/22/2023 18:14:47 - INFO - databalancer -   Running!\n",
      "03/22/2023 18:14:47 - INFO - databalancer -   Dowsampling reddit.Lithuania.txt.tok.clean in ./data/text_chunks/original/europe_data\n",
      "03/22/2023 18:14:47 - INFO - databalancer -   Dowsampling reddit.Finland.txt.tok.clean in ./data/text_chunks/original/europe_data\n",
      "03/22/2023 18:14:47 - INFO - databalancer -   Dowsampling reddit.Czech.txt.tok.clean in ./data/text_chunks/original/europe_data\n",
      "03/22/2023 18:14:47 - INFO - databalancer -   Dowsampling reddit.Mexico.txt.tok.clean in ./data/text_chunks/original/europe_data\n",
      "03/22/2023 18:14:47 - INFO - databalancer -   Dowsampling reddit.Greece.txt.tok.clean in ./data/text_chunks/original/europe_data\n",
      "03/22/2023 18:14:47 - INFO - databalancer -   Dowsampling reddit.France.txt.tok.clean in ./data/text_chunks/original/europe_data\n",
      "03/22/2023 18:14:48 - INFO - databalancer -   Dowsampling reddit.Russia.txt.tok.clean in ./data/text_chunks/original/europe_data\n",
      "03/22/2023 18:14:48 - INFO - databalancer -   Dowsampling reddit.Germany.txt.tok.clean in ./data/text_chunks/original/europe_data\n",
      "03/22/2023 18:14:48 - INFO - databalancer -   Dowsampling reddit.Portugal.txt.tok.clean in ./data/text_chunks/original/europe_data\n",
      "03/22/2023 18:14:48 - INFO - databalancer -   Dowsampling reddit.Norway.txt.tok.clean in ./data/text_chunks/original/europe_data\n",
      "03/22/2023 18:14:48 - INFO - databalancer -   Dowsampling reddit.Hungary.txt.tok.clean in ./data/text_chunks/original/europe_data\n",
      "03/22/2023 18:14:48 - INFO - databalancer -   Dowsampling reddit.Turkey.txt.tok.clean in ./data/text_chunks/original/europe_data\n",
      "03/22/2023 18:14:48 - INFO - databalancer -   Dowsampling reddit.Romania.txt.tok.clean in ./data/text_chunks/original/europe_data\n",
      "03/22/2023 18:14:49 - INFO - databalancer -   Dowsampling reddit.Estonia.txt.tok.clean in ./data/text_chunks/original/europe_data\n",
      "03/22/2023 18:14:49 - INFO - databalancer -   Dowsampling reddit.Bulgaria.txt.tok.clean in ./data/text_chunks/original/europe_data\n",
      "03/22/2023 18:14:49 - INFO - databalancer -   Dowsampling reddit.Netherlands.txt.tok.clean in ./data/text_chunks/original/europe_data\n",
      "03/22/2023 18:14:49 - INFO - databalancer -   Dowsampling reddit.Australia.txt.tok.clean in ./data/text_chunks/original/europe_data\n",
      "03/22/2023 18:14:49 - INFO - databalancer -   Dowsampling reddit.Serbia.txt.tok.clean in ./data/text_chunks/original/europe_data\n",
      "03/22/2023 18:14:49 - INFO - databalancer -   Dowsampling reddit.Ireland.txt.tok.clean in ./data/text_chunks/original/europe_data\n",
      "03/22/2023 18:14:49 - INFO - databalancer -   Dowsampling reddit.NewZealand.txt.tok.clean in ./data/text_chunks/original/europe_data\n",
      "03/22/2023 18:14:49 - INFO - databalancer -   Dowsampling reddit.Austria.txt.tok.clean in ./data/text_chunks/original/europe_data\n",
      "03/22/2023 18:14:49 - INFO - databalancer -   Dowsampling reddit.UK.txt.tok.clean in ./data/text_chunks/original/europe_data\n",
      "03/22/2023 18:14:50 - INFO - databalancer -   Dowsampling reddit.Italy.txt.tok.clean in ./data/text_chunks/original/europe_data\n",
      "03/22/2023 18:14:50 - INFO - databalancer -   Dowsampling reddit.Poland.txt.tok.clean in ./data/text_chunks/original/europe_data\n",
      "03/22/2023 18:14:50 - INFO - databalancer -   Dowsampling reddit.Slovenia.txt.tok.clean in ./data/text_chunks/original/europe_data\n",
      "03/22/2023 18:14:50 - INFO - databalancer -   Dowsampling reddit.Sweden.txt.tok.clean in ./data/text_chunks/original/europe_data\n",
      "03/22/2023 18:14:51 - INFO - databalancer -   Dowsampling reddit.Spain.txt.tok.clean in ./data/text_chunks/original/europe_data\n",
      "03/22/2023 18:14:51 - INFO - databalancer -   Dowsampling reddit.US.txt.tok.clean in ./data/text_chunks/original/europe_data\n",
      "03/22/2023 18:14:51 - INFO - databalancer -   Dowsampling reddit.Croatia.txt.tok.clean in ./data/text_chunks/original/europe_data\n",
      "03/22/2023 18:14:52 - INFO - databalancer -   Done!\n"
     ]
    }
   ],
   "source": [
    "data_balancer.create_balanced_folder(raw_data_dir='./data/text_chunks/original/europe_data',\n",
    "                                    output_dir='./data/balanced/seed_42/europe_data',\n",
    "                                    max_chunks_per_author=3,\n",
    "                                    authors_per_language=104,\n",
    "                                    )"
   ]
  },
  {
   "cell_type": "code",
   "execution_count": 5,
   "id": "13d89966",
   "metadata": {},
   "outputs": [
    {
     "name": "stderr",
     "output_type": "stream",
     "text": [
      "03/22/2023 18:16:02 - INFO - databalancer -   Running!\n",
      "03/22/2023 18:16:02 - INFO - databalancer -   Dowsampling reddit.Lithuania.txt.tok.clean in ./data/text_chunks/original/non_europe_data\n",
      "03/22/2023 18:16:04 - INFO - databalancer -   Dowsampling reddit.Finland.txt.tok.clean in ./data/text_chunks/original/non_europe_data\n",
      "03/22/2023 18:16:13 - INFO - databalancer -   Dowsampling reddit.Czech.txt.tok.clean in ./data/text_chunks/original/non_europe_data\n",
      "03/22/2023 18:16:15 - INFO - databalancer -   Dowsampling reddit.Mexico.txt.tok.clean in ./data/text_chunks/original/non_europe_data\n",
      "03/22/2023 18:16:16 - INFO - databalancer -   Dowsampling reddit.Greece.txt.tok.clean in ./data/text_chunks/original/non_europe_data\n",
      "03/22/2023 18:16:19 - INFO - databalancer -   Dowsampling reddit.France.txt.tok.clean in ./data/text_chunks/original/non_europe_data\n",
      "03/22/2023 18:16:28 - INFO - databalancer -   Dowsampling reddit.Russia.txt.tok.clean in ./data/text_chunks/original/non_europe_data\n",
      "03/22/2023 18:16:30 - INFO - databalancer -   Dowsampling reddit.Germany.txt.tok.clean in ./data/text_chunks/original/non_europe_data\n",
      "03/22/2023 18:16:55 - INFO - databalancer -   Dowsampling reddit.Portugal.txt.tok.clean in ./data/text_chunks/original/non_europe_data\n",
      "03/22/2023 18:17:00 - INFO - databalancer -   Dowsampling reddit.Norway.txt.tok.clean in ./data/text_chunks/original/non_europe_data\n",
      "03/22/2023 18:17:06 - INFO - databalancer -   Dowsampling reddit.Hungary.txt.tok.clean in ./data/text_chunks/original/non_europe_data\n",
      "03/22/2023 18:17:09 - INFO - databalancer -   Dowsampling reddit.Turkey.txt.tok.clean in ./data/text_chunks/original/non_europe_data\n",
      "03/22/2023 18:17:11 - INFO - databalancer -   Dowsampling reddit.Romania.txt.tok.clean in ./data/text_chunks/original/non_europe_data\n",
      "03/22/2023 18:17:16 - INFO - databalancer -   Dowsampling reddit.Estonia.txt.tok.clean in ./data/text_chunks/original/non_europe_data\n",
      "03/22/2023 18:17:17 - INFO - databalancer -   Dowsampling reddit.Bulgaria.txt.tok.clean in ./data/text_chunks/original/non_europe_data\n",
      "03/22/2023 18:17:19 - INFO - databalancer -   Dowsampling reddit.Netherlands.txt.tok.clean in ./data/text_chunks/original/non_europe_data\n",
      "03/22/2023 18:17:38 - INFO - databalancer -   Dowsampling reddit.Australia.txt.tok.clean in ./data/text_chunks/original/non_europe_data\n",
      "03/22/2023 18:17:41 - INFO - databalancer -   Dowsampling reddit.Serbia.txt.tok.clean in ./data/text_chunks/original/non_europe_data\n",
      "03/22/2023 18:17:42 - INFO - databalancer -   Dowsampling reddit.Ireland.txt.tok.clean in ./data/text_chunks/original/non_europe_data\n",
      "03/22/2023 18:17:57 - INFO - databalancer -   Dowsampling reddit.NewZealand.txt.tok.clean in ./data/text_chunks/original/non_europe_data\n",
      "03/22/2023 18:17:58 - INFO - databalancer -   Dowsampling reddit.Austria.txt.tok.clean in ./data/text_chunks/original/non_europe_data\n",
      "03/22/2023 18:18:03 - INFO - databalancer -   Dowsampling reddit.UK.txt.tok.clean in ./data/text_chunks/original/non_europe_data\n",
      "03/22/2023 18:18:56 - INFO - databalancer -   Dowsampling reddit.Italy.txt.tok.clean in ./data/text_chunks/original/non_europe_data\n",
      "03/22/2023 18:18:59 - INFO - databalancer -   Dowsampling reddit.Poland.txt.tok.clean in ./data/text_chunks/original/non_europe_data\n",
      "03/22/2023 18:19:06 - INFO - databalancer -   Dowsampling reddit.Slovenia.txt.tok.clean in ./data/text_chunks/original/non_europe_data\n",
      "03/22/2023 18:19:07 - INFO - databalancer -   Dowsampling reddit.Sweden.txt.tok.clean in ./data/text_chunks/original/non_europe_data\n",
      "03/22/2023 18:19:19 - INFO - databalancer -   Dowsampling reddit.Ukraine.txt.tok.clean in ./data/text_chunks/original/non_europe_data\n",
      "03/22/2023 18:19:19 - INFO - databalancer -   Dowsampling reddit.Spain.txt.tok.clean in ./data/text_chunks/original/non_europe_data\n",
      "03/22/2023 18:19:25 - INFO - databalancer -   Dowsampling reddit.US.txt.tok.clean in ./data/text_chunks/original/non_europe_data\n",
      "03/22/2023 18:20:48 - INFO - databalancer -   Dowsampling reddit.Croatia.txt.tok.clean in ./data/text_chunks/original/non_europe_data\n",
      "03/22/2023 18:20:53 - INFO - databalancer -   Done!\n"
     ]
    }
   ],
   "source": [
    "data_balancer.create_balanced_folder(raw_data_dir='./data/text_chunks/original/non_europe_data',\n",
    "                                    output_dir='./data/balanced/seed_42/non_europe_data',\n",
    "                                    max_chunks_per_author=17,\n",
    "                                    authors_per_language=273,\n",
    "                                    )"
   ]
  }
 ],
 "metadata": {
  "kernelspec": {
   "display_name": "Python 3 (ipykernel)",
   "language": "python",
   "name": "python3"
  },
  "language_info": {
   "codemirror_mode": {
    "name": "ipython",
    "version": 3
   },
   "file_extension": ".py",
   "mimetype": "text/x-python",
   "name": "python",
   "nbconvert_exporter": "python",
   "pygments_lexer": "ipython3",
   "version": "3.7.0"
  }
 },
 "nbformat": 4,
 "nbformat_minor": 5
}
