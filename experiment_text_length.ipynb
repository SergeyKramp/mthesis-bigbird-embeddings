{
 "cells": [
  {
   "cell_type": "code",
   "execution_count": 1,
   "metadata": {},
   "outputs": [],
   "source": [
    "import pickle\n",
    "import numpy as np\n",
    "from sklearn.linear_model import LogisticRegression\n",
    "from feature_extractors.transformer_feature_extractor import TransformerFeatureExtractor\n",
    "from sklearn.metrics import accuracy_score\n",
    "import matplotlib.pyplot as plt\n",
    "import matplotlib\n",
    "import seaborn as sns\n",
    "from tqdm import tqdm\n",
    "\n",
    "seed = 42"
   ]
  },
  {
   "attachments": {},
   "cell_type": "markdown",
   "metadata": {},
   "source": [
    "### Import Experiment Dataset"
   ]
  },
  {
   "cell_type": "code",
   "execution_count": 2,
   "metadata": {},
   "outputs": [],
   "source": [
    "X_bigbird = pickle.load(open('pickles/pickled_datasets/seed_42/out_of_domain_X_bigbird_fine_tuned_chunks.pkl', 'rb'))\n",
    "X_normal = pickle.load(open('pickles/pickled_datasets/seed_42/out_of_domain_X_normal_chunks.pkl', 'rb')).to_numpy()\n",
    "experiment_df = pickle.load(open('pickles/pickled_datasets/seed_42/out_of_domain_experiment_dataframe_clean_chunks.pkl', 'rb'))"
   ]
  },
  {
   "attachments": {},
   "cell_type": "markdown",
   "metadata": {},
   "source": [
    "## Randomly Sample 1000 Chunks"
   ]
  },
  {
   "cell_type": "code",
   "execution_count": 3,
   "metadata": {},
   "outputs": [],
   "source": [
    "np.random.seed(seed)\n",
    "random_indices = np.random.choice(len(X_bigbird), size=1000, replace=False)\n",
    "\n",
    "random_texts = experiment_df.iloc[random_indices].text.values.tolist()\n",
    "random_labels = experiment_df.iloc[random_indices].label.values.tolist()"
   ]
  },
  {
   "attachments": {},
   "cell_type": "markdown",
   "metadata": {},
   "source": [
    "### Create Slices of Text Chunk 10% 20% 40% and 80% of Total Text Length"
   ]
  },
  {
   "cell_type": "code",
   "execution_count": 4,
   "metadata": {},
   "outputs": [],
   "source": [
    "texts_10, texts_20, texts_40, texts_80 = [], [], [], []\n",
    "\n",
    "def get_n_sentences(text, n):\n",
    "  sentences = text.split('\\n')\n",
    "  return '\\n'.join(sentences[:n])\n",
    "\n",
    "for chunk in random_texts:\n",
    "    texts_10.append(get_n_sentences(chunk, 10))\n",
    "    texts_20.append(get_n_sentences(chunk, 20))\n",
    "    texts_40.append(get_n_sentences(chunk, 40))\n",
    "    texts_80.append(get_n_sentences(chunk, 80))\n"
   ]
  },
  {
   "attachments": {},
   "cell_type": "markdown",
   "metadata": {},
   "source": [
    "#### Create Embeddings for Slices"
   ]
  },
  {
   "cell_type": "code",
   "execution_count": null,
   "metadata": {},
   "outputs": [
    {
     "name": "stderr",
     "output_type": "stream",
     "text": [
      "Some weights of the model checkpoint at fine_tuned_models/out_of_domain_bigbird_roberta_base_clean_chunks were not used when initializing BigBirdModel: ['classifier.dense.bias', 'classifier.out_proj.weight', 'classifier.out_proj.bias', 'classifier.dense.weight']\n",
      "- This IS expected if you are initializing BigBirdModel from the checkpoint of a model trained on another task or with another architecture (e.g. initializing a BertForSequenceClassification model from a BertForPreTraining model).\n",
      "- This IS NOT expected if you are initializing BigBirdModel from the checkpoint of a model that you expect to be exactly identical (initializing a BertForSequenceClassification model from a BertForSequenceClassification model).\n",
      "Extracting features: 100%|██████████| 100/100 [00:22<00:00,  4.38it/s]\n",
      "Extracting features: 100%|██████████| 100/100 [00:22<00:00,  4.39it/s]\n",
      "Extracting features: 100%|██████████| 100/100 [00:22<00:00,  4.42it/s]\n",
      "Extracting features: 100%|██████████| 100/100 [00:22<00:00,  4.43it/s]\n",
      "Token indices sequence length is longer than the specified maximum sequence length for this model (4350 > 4096). Running this sequence through the model will result in indexing errors\n",
      "Extracting features: 100%|██████████| 100/100 [00:22<00:00,  4.42it/s]\n"
     ]
    }
   ],
   "source": [
    "big_bird_feature_extractor = TransformerFeatureExtractor(model_name='fine_tuned_models/out_of_domain_bigbird_roberta_base_clean_chunks', max_length=2048)\n",
    "\n",
    "embeddings_10 = big_bird_feature_extractor.transform(texts_10)\n",
    "embeddings_20 = big_bird_feature_extractor.transform(texts_20)\n",
    "embeddings_40 = big_bird_feature_extractor.transform(texts_40)\n",
    "embeddings_80 = big_bird_feature_extractor.transform(texts_80)\n",
    "embeddings_full = big_bird_feature_extractor.transform(random_texts)"
   ]
  },
  {
   "attachments": {},
   "cell_type": "markdown",
   "metadata": {},
   "source": [
    "#### Create features for slices"
   ]
  },
  {
   "cell_type": "code",
   "execution_count": 6,
   "metadata": {},
   "outputs": [
    {
     "name": "stderr",
     "output_type": "stream",
     "text": [
      "  0%|          | 0/5 [00:00<?, ?it/s]"
     ]
    },
    {
     "name": "stdout",
     "output_type": "stream",
     "text": [
      "Creating word ngram features...\n",
      "Creating char ngram features...\n"
     ]
    },
    {
     "name": "stderr",
     "output_type": "stream",
     "text": [
      "Calculating edit distance: 100%|██████████| 1000/1000 [00:01<00:00, 559.70it/s]\n",
      "Extracting Substitution Features: 100%|██████████| 1000/1000 [00:02<00:00, 468.39it/s]\n",
      "Extracting Grammar Features: 100%|██████████| 1000/1000 [02:13<00:00,  7.49it/s]\n",
      "Extracting Function Word Features: 1000it [00:00, 1091.33it/s]\n",
      "Extracting POS Features: 1000it [00:09, 109.74it/s]\n",
      "Extracting Average Sentence Length: 100%|██████████| 1000/1000 [00:00<00:00, 23286.94it/s]\n",
      " 20%|██        | 1/5 [02:31<10:07, 151.80s/it]"
     ]
    },
    {
     "name": "stdout",
     "output_type": "stream",
     "text": [
      "Creating word ngram features...\n",
      "Creating char ngram features...\n"
     ]
    },
    {
     "name": "stderr",
     "output_type": "stream",
     "text": [
      "Calculating edit distance: 100%|██████████| 1000/1000 [00:03<00:00, 277.29it/s]\n",
      "Extracting Substitution Features: 100%|██████████| 1000/1000 [00:04<00:00, 242.87it/s]\n",
      "Extracting Grammar Features: 100%|██████████| 1000/1000 [03:46<00:00,  4.41it/s]\n",
      "Extracting Function Word Features: 1000it [00:01, 578.97it/s]\n",
      "Extracting POS Features: 1000it [00:17, 56.63it/s]\n",
      "Extracting Average Sentence Length: 100%|██████████| 1000/1000 [00:00<00:00, 14796.08it/s]\n",
      " 40%|████      | 2/5 [06:50<10:44, 214.67s/it]"
     ]
    },
    {
     "name": "stdout",
     "output_type": "stream",
     "text": [
      "Creating word ngram features...\n",
      "Creating char ngram features...\n"
     ]
    },
    {
     "name": "stderr",
     "output_type": "stream",
     "text": [
      "Calculating edit distance: 100%|██████████| 1000/1000 [00:07<00:00, 139.80it/s]\n",
      "Extracting Substitution Features: 100%|██████████| 1000/1000 [00:08<00:00, 119.17it/s]\n",
      "Extracting Grammar Features: 100%|██████████| 1000/1000 [06:39<00:00,  2.50it/s]\n",
      "Extracting Function Word Features: 1000it [00:03, 308.73it/s]\n",
      "Extracting POS Features: 1000it [00:35, 28.47it/s]\n",
      "Extracting Average Sentence Length: 100%|██████████| 1000/1000 [00:00<00:00, 8240.74it/s]\n",
      " 60%|██████    | 3/5 [14:30<10:53, 326.52s/it]"
     ]
    },
    {
     "name": "stdout",
     "output_type": "stream",
     "text": [
      "Creating word ngram features...\n",
      "Creating char ngram features...\n"
     ]
    },
    {
     "name": "stderr",
     "output_type": "stream",
     "text": [
      "Calculating edit distance: 100%|██████████| 1000/1000 [00:14<00:00, 70.07it/s]\n",
      "Extracting Substitution Features: 100%|██████████| 1000/1000 [00:16<00:00, 60.91it/s]\n",
      "Extracting Grammar Features: 100%|██████████| 1000/1000 [12:42<00:00,  1.31it/s]\n",
      "Extracting Function Word Features: 1000it [00:06, 156.16it/s]\n",
      "Extracting POS Features: 1000it [01:07, 14.71it/s]\n",
      "Extracting Average Sentence Length: 100%|██████████| 1000/1000 [00:00<00:00, 4413.28it/s]\n",
      " 80%|████████  | 4/5 [29:05<09:03, 543.41s/it]"
     ]
    },
    {
     "name": "stdout",
     "output_type": "stream",
     "text": [
      "Creating word ngram features...\n",
      "Creating char ngram features...\n"
     ]
    },
    {
     "name": "stderr",
     "output_type": "stream",
     "text": [
      "Calculating edit distance: 100%|██████████| 1000/1000 [00:18<00:00, 55.05it/s]\n",
      "Extracting Substitution Features: 100%|██████████| 1000/1000 [00:20<00:00, 49.02it/s]\n"
     ]
    }
   ],
   "source": [
    "normal_feature_extractor = pickle.load(open('pickles/normal_feature_extractor_seed_42_chunks.pkl', 'rb'))\n",
    "\n",
    "features = []\n",
    "\n",
    "for index, slice in tqdm(enumerate([texts_10, texts_20, texts_40, texts_80, random_texts]), total=5):\n",
    "    word_ngram_features = normal_feature_extractor.get_word_ngram_features(slice, normalize=False)\n",
    "    char_ngram_features = normal_feature_extractor.get_char_ngram_features(slice, normalize=False)\n",
    "    edit_distance = normal_feature_extractor.get_edit_distance(slice, normalize=False).reshape(-1,1)\n",
    "    substitution_features= normal_feature_extractor.get_substitution_features(slice, normalize=False)\n",
    "    grammar_features = normal_feature_extractor.get_grammar_features(slice)\n",
    "    function_word_features = normal_feature_extractor.get_function_word_features(slice, normalize=False)\n",
    "    pos_features = normal_feature_extractor.get_pos_features(slice, normalize=False)\n",
    "    average_sentence_length = normal_feature_extractor.get_average_sentence_length(slice).reshape(-1,1)\n",
    "\n",
    "    features.append(np.concatenate([word_ngram_features, char_ngram_features, edit_distance, substitution_features,\n",
    "                                grammar_features, function_word_features, pos_features, average_sentence_length], axis=1))\n",
    "\n",
    "normal_features_10 = features[0]\n",
    "normal_features_20 = features[1]\n",
    "normal_features_40 = features[2]\n",
    "normal_features_80 = features[3]\n",
    "normal_features_full = features[4]\n",
    "\n"
   ]
  },
  {
   "cell_type": "code",
   "execution_count": 28,
   "metadata": {},
   "outputs": [
    {
     "data": {
      "text/plain": [
       "array([2473.], dtype=float32)"
      ]
     },
     "execution_count": 28,
     "metadata": {},
     "output_type": "execute_result"
    }
   ],
   "source": [
    "char_ngram_features.shape[1] + word_ngram_features.shape[1] + edit_distance[1] + substitution_features.shape[1]"
   ]
  },
  {
   "attachments": {},
   "cell_type": "markdown",
   "metadata": {},
   "source": [
    "### Train Classifiers"
   ]
  },
  {
   "cell_type": "code",
   "execution_count": null,
   "metadata": {},
   "outputs": [],
   "source": [
    "X_normal_train = X_normal[[i for i in range(len(X_normal)) if i not in random_indices]]\n",
    "X_bigbird_train = X_bigbird[[i for i in range(len(X_bigbird)) if i not in random_indices]]\n",
    "\n",
    "y = experiment_df.iloc[[i for i in range(len(experiment_df)) if i not in random_indices]].label.values.tolist()\n",
    "\n",
    "clf_normal = LogisticRegression(random_state=seed, max_iter=1000, verbose=1).fit(X_normal_train, y)\n",
    "clf_bigbird = LogisticRegression(random_state=seed, max_iter=1000, verbose=1).fit(X_bigbird_train, y)"
   ]
  },
  {
   "attachments": {},
   "cell_type": "markdown",
   "metadata": {},
   "source": [
    "### Compute Accuracy Scores for Each Slice"
   ]
  },
  {
   "cell_type": "code",
   "execution_count": 25,
   "metadata": {},
   "outputs": [],
   "source": [
    "preds_normal_10 = clf_normal.predict(normal_features_10)\n",
    "preds_normal_20 = clf_normal.predict(normal_features_20)\n",
    "preds_normal_40 = clf_normal.predict(normal_features_40)\n",
    "preds_normal_80 = clf_normal.predict(normal_features_80)\n",
    "preds_normal_full = clf_normal.predict(normal_features_full)\n",
    "\n",
    "preds_bigbird_10 = clf_bigbird.predict(embeddings_10)\n",
    "preds_bigbird_20 = clf_bigbird.predict(embeddings_20)\n",
    "preds_bigbird_40 = clf_bigbird.predict(embeddings_40)\n",
    "preds_bigbird_80 = clf_bigbird.predict(embeddings_80)\n",
    "preds_bigbird_full = clf_bigbird.predict(embeddings_full)\n",
    "\n",
    "acc_normal_10 = accuracy_score(random_labels, preds_normal_10)\n",
    "acc_normal_20 = accuracy_score(random_labels, preds_normal_20)\n",
    "acc_normal_40 = accuracy_score(random_labels, preds_normal_40)\n",
    "acc_normal_80 = accuracy_score(random_labels, preds_normal_80)\n",
    "acc_normal_full = accuracy_score(random_labels, preds_normal_full)\n",
    "\n",
    "acc_bigbird_10 = accuracy_score(random_labels, preds_bigbird_10)\n",
    "acc_bigbird_20 = accuracy_score(random_labels, preds_bigbird_20)\n",
    "acc_bigbird_40 = accuracy_score(random_labels, preds_bigbird_40)\n",
    "acc_bigbird_80 = accuracy_score(random_labels, preds_bigbird_80)\n",
    "acc_bigbird_full = accuracy_score(random_labels, preds_bigbird_full)"
   ]
  },
  {
   "attachments": {},
   "cell_type": "markdown",
   "metadata": {},
   "source": [
    "#### Accuracy Scores Visualized"
   ]
  },
  {
   "cell_type": "code",
   "execution_count": 33,
   "metadata": {},
   "outputs": [
    {
     "data": {
      "image/png": "[encoded data removed]",
      "text/plain": [
       "<Figure size 1200x500 with 2 Axes>"
      ]
     },
     "metadata": {},
     "output_type": "display_data"
    }
   ],
   "source": [
    "sns.set(font='Times New Roman', font_scale=1.8, style=\"whitegrid\")\n",
    "plt.rcParams[\"font.family\"] = \"serif\"\n",
    "plt.rcParams[\"font.serif\"] = [\"Times New Roman\"]\n",
    "matplotlib.rcParams['font.size'] = 14\n",
    "\n",
    "accuracies_normal = [acc_normal_10, acc_normal_20, acc_normal_40, acc_normal_80, acc_normal_full]\n",
    "accuracies_bigbird = [acc_bigbird_10, acc_bigbird_20, acc_bigbird_40, acc_bigbird_80, acc_bigbird_full]\n",
    "labels = ['10%', '20%', '40%', '80%', '100%']\n",
    "\n",
    "fig, axes = plt.subplots(1, 2, figsize=(12, 5))\n",
    "\n",
    "sns.barplot(x=labels, y=accuracies_normal, ax=axes[0], color='#ff7f0e')\n",
    "sns.barplot(x=labels, y=accuracies_bigbird, ax=axes[1], color='#f9d71c')\n",
    "\n",
    "axes[0].set_title('Feature Engineering', fontsize=16)\n",
    "axes[1].set_title('Big Bird Embeddings', fontsize=16)\n",
    "\n",
    "[axe.set_xlabel('Text Length', fontsize=14) for axe in axes]\n",
    "axes[0].set_ylabel('Accuracy', fontsize=14)\n",
    "\n",
    "axes[0].set_ylim(0, 0.5)\n",
    "axes[1].set_ylim(0, 0.7)\n",
    "\n",
    "# set font tick size to 14\n",
    "[axe.tick_params(labelsize=14) for axe in axes]\n",
    "\n",
    "# add accuracy scores to the plot\n",
    "for i, v in enumerate(accuracies_normal):\n",
    "    axes[0].text(i - 0.2, v + 0.01, str(round(v, 2)), color='black', fontweight='bold')\n",
    "\n",
    "for i, v in enumerate(accuracies_bigbird):\n",
    "    axes[1].text(i - 0.2, v + 0.01, str(round(v, 2)), color='black', fontweight='bold')\n",
    "    \n"
   ]
  }
 ],
 "metadata": {
  "kernelspec": {
   "display_name": "sergey_thesis",
   "language": "python",
   "name": "python3"
  },
  "language_info": {
   "codemirror_mode": {
    "name": "ipython",
    "version": 3
   },
   "file_extension": ".py",
   "mimetype": "text/x-python",
   "name": "python",
   "nbconvert_exporter": "python",
   "pygments_lexer": "ipython3",
   "version": "3.7.0"
  },
  "orig_nbformat": 4
 },
 "nbformat": 4,
 "nbformat_minor": 2
}
